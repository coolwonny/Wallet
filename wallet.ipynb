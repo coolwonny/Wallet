{
 "cells": [
  {
   "cell_type": "code",
   "execution_count": 76,
   "metadata": {},
   "outputs": [],
   "source": [
    "from constants import *\n",
    "import subprocess\n",
    "import json\n",
    "import os\n",
    "from dotenv import load_dotenv"
   ]
  },
  {
   "cell_type": "code",
   "execution_count": 77,
   "metadata": {},
   "outputs": [],
   "source": [
    "# Load mnemonic in env file and assign it a variable called 'mnemonic'\n",
    "load_dotenv('c:/Users/Sungwon Kim/fintech/.env')\n",
    "mnemonic = os.getenv('MNEMONIC')"
   ]
  },
  {
   "cell_type": "markdown",
   "metadata": {},
   "source": [
    "## Deriving the wallet keys"
   ]
  },
  {
   "cell_type": "code",
   "execution_count": 78,
   "metadata": {},
   "outputs": [],
   "source": [
    "#  The php command that will get our derived addresses\n",
    "# --coin ETH will derive ethereum addresses\n",
    "# --format=json changes the terminal output to json format\n",
    "\n",
    "def derive_wallets(mnemonic, coin, numderive):\n",
    "    command = f'php hd-wallet-derive/hd-wallet-derive.php -g --mnemonic=\"{mnemonic}\" --coin=\"{coin}\" --numderive=\"{numderive}\" --cols=address,index,path,privkey,pubkey,pubkeyhash,xprv,xpub --format=json'\n",
    "    p = subprocess.Popen(command, stdout=subprocess.PIPE, shell=True)\n",
    "    (output, err) = p.communicate()\n",
    "    p_status = p.wait()\n",
    "\n",
    "    keys = json.loads(output)\n",
    "    # print all the addresses\n",
    "    return keys"
   ]
  },
  {
   "cell_type": "code",
   "execution_count": 87,
   "metadata": {},
   "outputs": [
    {
     "data": {
      "text/plain": [
       "[{'address': '0x885b7a26666CA4e06a0f36Efcc06d5C33700F2FB',\n",
       "  'index': 0,\n",
       "  'path': \"m/44'/60'/0'/0/0\",\n",
       "  'privkey': '0x96a3282916d4041e279c1f17c2213f07133fe013989d7d7818220b964576f751',\n",
       "  'pubkey': '02863c71c11eeedc4f822824cc40ad1ce0fec6daff250b43fc2a9976765fe1322f',\n",
       "  'pubkeyhash': 'c1da8bd833bcb580a530f7558286808425727d86',\n",
       "  'xprv': 'xprvA3TYfuHr49ifSNbK9DbuDUMuFnpuH4VjzCDh7Kuf3sVnnuWWA7zaBYnLaDU2Jax4G11uQtpkc1VFwRXYPoxrn3ehrcX9Hgs3Nx7wM8LvcGn',\n",
       "  'xpub': 'xpub6GSu5QpjtXGxerfnFF8uacJdopfPgXDbMR9HuiKGcD2mfhqehfJpjM6pRUNZoHhzm2V9RgGwguadNVgJHQf2wmZKzrSNCS3KoJujULEcRsq'},\n",
       " {'address': '0xFa5FEf59530E16f06296e65eDeb8Bf5D2fF77D9D',\n",
       "  'index': 1,\n",
       "  'path': \"m/44'/60'/0'/0/1\",\n",
       "  'privkey': '0x1666a97f8230a1b64c542d563d10fa886c00dd043416b193316eaeb240a1961e',\n",
       "  'pubkey': '0306df38912881dbce99e3e8ae15a1798edcc9183958b43c2d5b1fa0e3910fb72e',\n",
       "  'pubkeyhash': '8f9537f0b27b33814b8decdceda1c1398c8ee02c',\n",
       "  'xprv': 'xprvA3TYfuHr49ifUc4zp9TCAdy71DkJ8WRW9wjDyJDBwQD7osShPPZjXaanU4oeZT1aX9DzxBwPzRnqjHFaXP7sdWEjFhN75iHAvh5ZYTeE79c',\n",
       "  'xpub': 'xpub6GSu5QpjtXGxh69TvAzCXmuqZFanXy9MXAepmgcoVjk6gfmqvvsz5NuGKMfKWWQdB4PdiXt1Ut8cYjMsECX41XPhNVPENr5xBZub9g8DHo3'},\n",
       " {'address': '0xF195b2107eB82715A7b447595CAcEB5a360Ae3bb',\n",
       "  'index': 2,\n",
       "  'path': \"m/44'/60'/0'/0/2\",\n",
       "  'privkey': '0xb5820cd4d854d35e84ed66bfbcc8df05a007c0bdce2904daf41f1e687bf6e87d',\n",
       "  'pubkey': '0234fa366ce6d317a7662957160dcf4381e67d3da00cd166ebe22526b7748b54d5',\n",
       "  'pubkeyhash': '91fcf013cef77e23782e338052d0c1487c1a3173',\n",
       "  'xprv': 'xprvA3TYfuHr49ifXxA2yWrQ53BcWwZkQeDVPGu5o1iXrZ9R8BbP6xDD9Hnir3HPMz4rmb22kRtaqHY4YME158kbz3FgPfEyWGgwHEqjbqTMpmr',\n",
       "  'xpub': 'xpub6GSu5QpjtXGxkSEW5YPQSB8M4yQEp6wLkVpgbQ89QtgPzyvXeVXTh67ChHLYfPDUmzToA4o1MLdR44BReY5xyCfgswv5fG8tRqRaQ14BcgL'}]"
      ]
     },
     "execution_count": 87,
     "metadata": {},
     "output_type": "execute_result"
    }
   ],
   "source": [
    "derive_wallets(mnemonic, ETH, 3)"
   ]
  },
  {
   "cell_type": "code",
   "execution_count": 79,
   "metadata": {},
   "outputs": [],
   "source": [
    "\n",
    "# class coins:\n",
    "#     BTC\n",
    "#     ETH = 'eth'\n",
    "#     BTCTEST = 'btc-test'"
   ]
  },
  {
   "cell_type": "code",
   "execution_count": 102,
   "metadata": {},
   "outputs": [],
   "source": [
    "# Create an object called coins that derives ETH and BTCTEST wallets with this function\n",
    "coin = [ETH, BTCTEST]\n",
    "coins = {k:v for k in coin for v in [derive_wallets(mnemonic, k, 3)]}"
   ]
  },
  {
   "cell_type": "code",
   "execution_count": 103,
   "metadata": {},
   "outputs": [
    {
     "data": {
      "text/plain": [
       "{'eth': [{'address': '0x885b7a26666CA4e06a0f36Efcc06d5C33700F2FB',\n",
       "   'index': 0,\n",
       "   'path': \"m/44'/60'/0'/0/0\",\n",
       "   'privkey': '0x96a3282916d4041e279c1f17c2213f07133fe013989d7d7818220b964576f751',\n",
       "   'pubkey': '02863c71c11eeedc4f822824cc40ad1ce0fec6daff250b43fc2a9976765fe1322f',\n",
       "   'pubkeyhash': 'c1da8bd833bcb580a530f7558286808425727d86',\n",
       "   'xprv': 'xprvA3TYfuHr49ifSNbK9DbuDUMuFnpuH4VjzCDh7Kuf3sVnnuWWA7zaBYnLaDU2Jax4G11uQtpkc1VFwRXYPoxrn3ehrcX9Hgs3Nx7wM8LvcGn',\n",
       "   'xpub': 'xpub6GSu5QpjtXGxerfnFF8uacJdopfPgXDbMR9HuiKGcD2mfhqehfJpjM6pRUNZoHhzm2V9RgGwguadNVgJHQf2wmZKzrSNCS3KoJujULEcRsq'},\n",
       "  {'address': '0xFa5FEf59530E16f06296e65eDeb8Bf5D2fF77D9D',\n",
       "   'index': 1,\n",
       "   'path': \"m/44'/60'/0'/0/1\",\n",
       "   'privkey': '0x1666a97f8230a1b64c542d563d10fa886c00dd043416b193316eaeb240a1961e',\n",
       "   'pubkey': '0306df38912881dbce99e3e8ae15a1798edcc9183958b43c2d5b1fa0e3910fb72e',\n",
       "   'pubkeyhash': '8f9537f0b27b33814b8decdceda1c1398c8ee02c',\n",
       "   'xprv': 'xprvA3TYfuHr49ifUc4zp9TCAdy71DkJ8WRW9wjDyJDBwQD7osShPPZjXaanU4oeZT1aX9DzxBwPzRnqjHFaXP7sdWEjFhN75iHAvh5ZYTeE79c',\n",
       "   'xpub': 'xpub6GSu5QpjtXGxh69TvAzCXmuqZFanXy9MXAepmgcoVjk6gfmqvvsz5NuGKMfKWWQdB4PdiXt1Ut8cYjMsECX41XPhNVPENr5xBZub9g8DHo3'},\n",
       "  {'address': '0xF195b2107eB82715A7b447595CAcEB5a360Ae3bb',\n",
       "   'index': 2,\n",
       "   'path': \"m/44'/60'/0'/0/2\",\n",
       "   'privkey': '0xb5820cd4d854d35e84ed66bfbcc8df05a007c0bdce2904daf41f1e687bf6e87d',\n",
       "   'pubkey': '0234fa366ce6d317a7662957160dcf4381e67d3da00cd166ebe22526b7748b54d5',\n",
       "   'pubkeyhash': '91fcf013cef77e23782e338052d0c1487c1a3173',\n",
       "   'xprv': 'xprvA3TYfuHr49ifXxA2yWrQ53BcWwZkQeDVPGu5o1iXrZ9R8BbP6xDD9Hnir3HPMz4rmb22kRtaqHY4YME158kbz3FgPfEyWGgwHEqjbqTMpmr',\n",
       "   'xpub': 'xpub6GSu5QpjtXGxkSEW5YPQSB8M4yQEp6wLkVpgbQ89QtgPzyvXeVXTh67ChHLYfPDUmzToA4o1MLdR44BReY5xyCfgswv5fG8tRqRaQ14BcgL'}],\n",
       " 'btc-test': [{'address': 'mqdhKg8auE63NZqWxFxpi5t1pa48xNCfHx',\n",
       "   'index': 0,\n",
       "   'path': \"m/44'/1'/0'/0/0\",\n",
       "   'privkey': 'cPBKpNWjRqBLYyXv1NQ3NyBcEkhxUx2uGXGVsrgMBhjAgXJuzfrB',\n",
       "   'pubkey': '03b08f98f29ba089a211f3e28b49cf45fa1a846ed2c2f73a6858389465c5b1b15f',\n",
       "   'pubkeyhash': '6ef7abe9e35190160c97f1ae3386ee71ec0c100b',\n",
       "   'xprv': 'tprv8jWpkzj9XmGTRScTqXd13WxeBTeERUqX8oorwqncBviWX4SsVf2s64NZc1Pkb1UbhrGxUkHVewUMkG8mCwHzd6kU5mKshwiSY8Tohu2Sr9L',\n",
       "   'xpub': 'tpubDGCruQmPg8x8JueFjBHbSvckkVAAap2Ri7QeEMpucCWuMYhe83rTGYzRnBGAc3W1vyoE69rBJvug8oomk1REco5jCCR15wE9ynHRWEaqskt'},\n",
       "  {'address': 'msESMGGnzd5FXx8wjUsUc51MrFaNwUCHMb',\n",
       "   'index': 1,\n",
       "   'path': \"m/44'/1'/0'/0/1\",\n",
       "   'privkey': 'cTXy45GZkwuR2Giku9vsgCbRo8PBaCxhfu9qN8VDGRVaTYyidQ8q',\n",
       "   'pubkey': '035e99c9e1649d16c485727b6978dd33c1adf40190820a35466f1248a36be2ac1c',\n",
       "   'pubkeyhash': '8081db83be10318f214246fdd7432b420d979822',\n",
       "   'xprv': 'tprv8jWpkzj9XmGTS7Cj3dFijyFwYpjgWaNNYzZTrFgnWLVeiZTjovoHHY2AwTawrDBWy2RDFEAdEsy85ow3DW8NzWJ4XvJjbJ9yUP7cj2zZJ46',\n",
       "   'xpub': 'tpubDGCruQmPg8x8KaEWwGvK9Nv47rFcfuZH8JAF8mj5vcJ3Z3iWSKcsU2e37br2RuSFP6hFXuFX4AcASKPJiJGBqALHG5g2yDabQdi61Gr3ASv'},\n",
       "  {'address': 'mjb26n3fKSgHMibwmL5hztYQzsFh58dUCT',\n",
       "   'index': 2,\n",
       "   'path': \"m/44'/1'/0'/0/2\",\n",
       "   'privkey': 'cRnoHBeqm9BNyAQihEKPRB1ft4zvRJ3zTi2PGPTkLJRKfrwDw1dh',\n",
       "   'pubkey': '030a53999707ec5f2213c9001a9f19bfe1022fc4c4ab6add921a704d3b60939428',\n",
       "   'pubkeyhash': '2ca557fde264b51c5f51da8eb2f1ccf5473954f0',\n",
       "   'xprv': 'tprv8jWpkzj9XmGTVW4EejVrA2LSCJBifTmu2g21NidwGDxMqrXKu9F8bHNvmtGdPu4JJmmTMaPYJH16jwpsnYJuUUCkGRXePoupa2ppa6DgnbV',\n",
       "   'xpub': 'tpubDGCruQmPg8x8Ny62YPASZRzYmKhepnxobycnfEgEgVkkgLn6XY4immznx2HWiukvnQxrLjrRGeaXb6HixALmUXbsFuahFw68XzvRhsBgist'}]}"
      ]
     },
     "execution_count": 103,
     "metadata": {},
     "output_type": "execute_result"
    }
   ],
   "source": [
    "coins"
   ]
  },
  {
   "cell_type": "code",
   "execution_count": 104,
   "metadata": {
    "scrolled": false
   },
   "outputs": [
    {
     "data": {
      "text/plain": [
       "'0x96a3282916d4041e279c1f17c2213f07133fe013989d7d7818220b964576f751'"
      ]
     },
     "execution_count": 104,
     "metadata": {},
     "output_type": "execute_result"
    }
   ],
   "source": [
    "coins['eth'][0]['privkey']"
   ]
  },
  {
   "cell_type": "markdown",
   "metadata": {},
   "source": [
    "## Linking the transaction signing libraries"
   ]
  },
  {
   "cell_type": "code",
   "execution_count": 106,
   "metadata": {},
   "outputs": [],
   "source": [
    "from web3 import Web3\n",
    "from web3.middleware import geth_poa_middleware\n",
    "from eth_account import Account\n",
    "from pathlib import Path\n",
    "from getpass import getpass"
   ]
  },
  {
   "cell_type": "code",
   "execution_count": 112,
   "metadata": {},
   "outputs": [],
   "source": [
    "\n",
    "# w3 = Web3(Web3.HTTPProvider(\"http://127.0.0.1:8545\"))\n",
    "# w3.middleware_onion.inject(geth_poa_middleware, layer=0)\n",
    "\n",
    "# private_key = os.getenv(\"PRIVATE_KEY\")\n",
    "\n",
    "# account_one = Account.from_key(private_key)\n"
   ]
  },
  {
   "cell_type": "code",
   "execution_count": 108,
   "metadata": {},
   "outputs": [],
   "source": [
    "def priv_key_to_account(coin, priv_key):\n",
    "    if coin == ETH:\n",
    "        return Account.privateKeyToAccount(priv_key)\n",
    "    elif coin == BTCTEST:\n",
    "        return PrivateKeyTestnet(priv_key)"
   ]
  },
  {
   "cell_type": "code",
   "execution_count": 113,
   "metadata": {},
   "outputs": [
    {
     "data": {
      "text/plain": [
       "<eth_account.signers.local.LocalAccount at 0x1d346f34588>"
      ]
     },
     "execution_count": 113,
     "metadata": {},
     "output_type": "execute_result"
    }
   ],
   "source": [
    "priv_key_to_account(ETH, coins['eth'][0]['privkey'])"
   ]
  },
  {
   "cell_type": "code",
   "execution_count": 109,
   "metadata": {},
   "outputs": [],
   "source": [
    "def create_tx(coin, account, to, amount):\n",
    "    if coin == ETH:\n",
    "        gasEstimate = w3.eth.estimateGas(\n",
    "        {\"from\": account.address, \"to\": to, \"value\": amount}\n",
    "    )\n",
    "        return {\n",
    "            \"to\": to,\n",
    "            \"from\": account.address,\n",
    "            \"value\": amount,\n",
    "            \"gas\": gasEstimate,\n",
    "            \"gasPrice\": w3.eth.gasPrice,\n",
    "            \"nonce\": w3.eth.getTransactionCount(account.address),\n",
    "            \n",
    "    }\n",
    "    elif coin == BTCTEST:\n",
    "        return PrivateKeyTestnet.prepare_transaction(account.address, [(to, amount, BTC)])"
   ]
  },
  {
   "cell_type": "code",
   "execution_count": 110,
   "metadata": {},
   "outputs": [],
   "source": [
    "def send_tx(coin, account, to, amount):\n",
    "    tx = create_tx(coin, account, to, amount)\n",
    "    if coin == ETH:\n",
    "        signed_tx = account.sign_transaction(tx)\n",
    "        result = w3.eth.sendRawTransaction(signed_tx.rawTransaction)\n",
    "        return result.hex()\n",
    "    elif coin == BTCTEST:\n",
    "        signed_tx = account.sign_transaction(tx)\n",
    "        return NetworkAPI.broadcast_tx_testnet(signed_tx)"
   ]
  },
  {
   "cell_type": "code",
   "execution_count": 111,
   "metadata": {},
   "outputs": [
    {
     "name": "stdout",
     "output_type": "stream",
     "text": [
      "0x9A97cBEB72B8b8B8BbB2202BD769D3Ac109E787A\n"
     ]
    },
    {
     "ename": "NameError",
     "evalue": "name 'account_two' is not defined",
     "output_type": "error",
     "traceback": [
      "\u001b[1;31m---------------------------------------------------------------------------\u001b[0m",
      "\u001b[1;31mNameError\u001b[0m                                 Traceback (most recent call last)",
      "\u001b[1;32m<ipython-input-111-79f79a808870>\u001b[0m in \u001b[0;36m<module>\u001b[1;34m\u001b[0m\n\u001b[0;32m      1\u001b[0m \u001b[0mprint\u001b[0m\u001b[1;33m(\u001b[0m\u001b[0maccount_one\u001b[0m\u001b[1;33m.\u001b[0m\u001b[0maddress\u001b[0m\u001b[1;33m)\u001b[0m\u001b[1;33m\u001b[0m\u001b[1;33m\u001b[0m\u001b[0m\n\u001b[1;32m----> 2\u001b[1;33m \u001b[0mprint\u001b[0m\u001b[1;33m(\u001b[0m\u001b[0maccount_two\u001b[0m\u001b[1;33m.\u001b[0m\u001b[0maddress\u001b[0m\u001b[1;33m)\u001b[0m\u001b[1;33m\u001b[0m\u001b[1;33m\u001b[0m\u001b[0m\n\u001b[0m",
      "\u001b[1;31mNameError\u001b[0m: name 'account_two' is not defined"
     ]
    }
   ],
   "source": [
    "print(account_one.address)\n",
    "print(account_two.address)\n"
   ]
  },
  {
   "cell_type": "code",
   "execution_count": null,
   "metadata": {},
   "outputs": [],
   "source": []
  },
  {
   "cell_type": "code",
   "execution_count": null,
   "metadata": {},
   "outputs": [],
   "source": []
  }
 ],
 "metadata": {
  "kernelspec": {
   "display_name": "Python 3",
   "language": "python",
   "name": "python3"
  },
  "language_info": {
   "codemirror_mode": {
    "name": "ipython",
    "version": 3
   },
   "file_extension": ".py",
   "mimetype": "text/x-python",
   "name": "python",
   "nbconvert_exporter": "python",
   "pygments_lexer": "ipython3",
   "version": "3.7.7"
  }
 },
 "nbformat": 4,
 "nbformat_minor": 4
}
