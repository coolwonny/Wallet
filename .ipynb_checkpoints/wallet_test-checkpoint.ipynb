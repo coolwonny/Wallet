{
 "cells": [
  {
   "cell_type": "code",
   "execution_count": 16,
   "metadata": {},
   "outputs": [],
   "source": [
    "from constants import *\n",
    "import subprocess\n",
    "import json\n",
    "import os\n",
    "from dotenv import load_dotenv\n",
    "from web3 import Web3\n",
    "from web3.middleware import geth_poa_middleware\n",
    "from web3.gas_strategies.time_based import medium_gas_price_strategy\n",
    "from bit import wif_to_key, PrivateKeyTestnet\n",
    "from bit.network import NetworkAPI\n",
    "from eth_account import Account"
   ]
  },
  {
   "cell_type": "code",
   "execution_count": 17,
   "metadata": {},
   "outputs": [],
   "source": [
    "# Load mnemonic in env file and assign it a variable called 'mnemonic'\n",
    "load_dotenv('c:/Users/Sungwon Kim/fintech/.env')\n",
    "mnemonic = os.getenv('MNEMONIC')"
   ]
  },
  {
   "cell_type": "code",
   "execution_count": 18,
   "metadata": {},
   "outputs": [],
   "source": [
    "# Create coin object\n",
    "class coin:\n",
    "    BTC = 'btc'\n",
    "    ETH = 'eth'\n",
    "    BTCTEST = 'btc-test'"
   ]
  },
  {
   "cell_type": "code",
   "execution_count": 19,
   "metadata": {},
   "outputs": [],
   "source": [
    "\n",
    "#Deriving the wallet keys\n",
    "def derive_wallets (mnemonic,coin,number):\n",
    "    command = f'php ./hd-wallet-derive/hd-wallet-derive.php --mnemonic=\"{mnemonic}\" -g --numderive=\"{number}\" --coin=\"{coin}\" --cols=address,index,path,privkey,pubkey,pubkeyhash,xprv,xpub --format=json'\n",
    "    p = subprocess.Popen(command, stdout=subprocess.PIPE, shell=True)\n",
    "    (output, err) =p.communicate()\n",
    "    p_status = p.wait()\n",
    "    keys = json.loads(output)\n",
    "    return keys"
   ]
  },
  {
   "cell_type": "code",
   "execution_count": 20,
   "metadata": {},
   "outputs": [
    {
     "data": {
      "text/plain": [
       "[{'address': '0x885b7a26666CA4e06a0f36Efcc06d5C33700F2FB',\n",
       "  'index': 0,\n",
       "  'path': \"m/44'/60'/0'/0/0\",\n",
       "  'privkey': '0x96a3282916d4041e279c1f17c2213f07133fe013989d7d7818220b964576f751',\n",
       "  'pubkey': '02863c71c11eeedc4f822824cc40ad1ce0fec6daff250b43fc2a9976765fe1322f',\n",
       "  'pubkeyhash': 'c1da8bd833bcb580a530f7558286808425727d86',\n",
       "  'xprv': 'xprvA3TYfuHr49ifSNbK9DbuDUMuFnpuH4VjzCDh7Kuf3sVnnuWWA7zaBYnLaDU2Jax4G11uQtpkc1VFwRXYPoxrn3ehrcX9Hgs3Nx7wM8LvcGn',\n",
       "  'xpub': 'xpub6GSu5QpjtXGxerfnFF8uacJdopfPgXDbMR9HuiKGcD2mfhqehfJpjM6pRUNZoHhzm2V9RgGwguadNVgJHQf2wmZKzrSNCS3KoJujULEcRsq'},\n",
       " {'address': '0xFa5FEf59530E16f06296e65eDeb8Bf5D2fF77D9D',\n",
       "  'index': 1,\n",
       "  'path': \"m/44'/60'/0'/0/1\",\n",
       "  'privkey': '0x1666a97f8230a1b64c542d563d10fa886c00dd043416b193316eaeb240a1961e',\n",
       "  'pubkey': '0306df38912881dbce99e3e8ae15a1798edcc9183958b43c2d5b1fa0e3910fb72e',\n",
       "  'pubkeyhash': '8f9537f0b27b33814b8decdceda1c1398c8ee02c',\n",
       "  'xprv': 'xprvA3TYfuHr49ifUc4zp9TCAdy71DkJ8WRW9wjDyJDBwQD7osShPPZjXaanU4oeZT1aX9DzxBwPzRnqjHFaXP7sdWEjFhN75iHAvh5ZYTeE79c',\n",
       "  'xpub': 'xpub6GSu5QpjtXGxh69TvAzCXmuqZFanXy9MXAepmgcoVjk6gfmqvvsz5NuGKMfKWWQdB4PdiXt1Ut8cYjMsECX41XPhNVPENr5xBZub9g8DHo3'},\n",
       " {'address': '0xF195b2107eB82715A7b447595CAcEB5a360Ae3bb',\n",
       "  'index': 2,\n",
       "  'path': \"m/44'/60'/0'/0/2\",\n",
       "  'privkey': '0xb5820cd4d854d35e84ed66bfbcc8df05a007c0bdce2904daf41f1e687bf6e87d',\n",
       "  'pubkey': '0234fa366ce6d317a7662957160dcf4381e67d3da00cd166ebe22526b7748b54d5',\n",
       "  'pubkeyhash': '91fcf013cef77e23782e338052d0c1487c1a3173',\n",
       "  'xprv': 'xprvA3TYfuHr49ifXxA2yWrQ53BcWwZkQeDVPGu5o1iXrZ9R8BbP6xDD9Hnir3HPMz4rmb22kRtaqHY4YME158kbz3FgPfEyWGgwHEqjbqTMpmr',\n",
       "  'xpub': 'xpub6GSu5QpjtXGxkSEW5YPQSB8M4yQEp6wLkVpgbQ89QtgPzyvXeVXTh67ChHLYfPDUmzToA4o1MLdR44BReY5xyCfgswv5fG8tRqRaQ14BcgL'}]"
      ]
     },
     "execution_count": 20,
     "metadata": {},
     "output_type": "execute_result"
    }
   ],
   "source": [
    "# Printing the wallet keys\n",
    "derive_wallets(mnemonic,ETH,3)"
   ]
  },
  {
   "cell_type": "code",
   "execution_count": 21,
   "metadata": {},
   "outputs": [],
   "source": [
    "# Linking the transaction signing libraries\n",
    "def priv_key_to_account (coin, priv_key):\n",
    "    if coin == ETH:\n",
    "        return Account.privateKeyToAccount(priv_key)\n",
    "    elif coin == BTCTEST:\n",
    "        return PrivateKeyTestnet(priv_key)"
   ]
  },
  {
   "cell_type": "code",
   "execution_count": 22,
   "metadata": {},
   "outputs": [],
   "source": [
    "w3 = Web3(Web3.HTTPProvider(\"http://127.0.0.1:8545\"))\n",
    "w3.middleware_onion.inject(geth_poa_middleware, layer=0)\n",
    "w3.eth.setGasPriceStrategy(medium_gas_price_strategy)"
   ]
  },
  {
   "cell_type": "code",
   "execution_count": 23,
   "metadata": {},
   "outputs": [],
   "source": [
    "eth_acc = priv_key_to_account(ETH, derive_wallets(mnemonic, ETH,3)[0]['privkey'])\n",
    "btc_acc = priv_key_to_account(BTCTEST, derive_wallets(mnemonic,BTCTEST,3)[0]['privkey'])"
   ]
  },
  {
   "cell_type": "code",
   "execution_count": 24,
   "metadata": {},
   "outputs": [],
   "source": [
    "def create_tx(coin, account, to, amount):\n",
    "    if coin == ETH:\n",
    "        gasEstimate = w3.eth.estimateGas(\n",
    "        {\"from\": eth_acc.address, \"to\": to, \"value\": amount}\n",
    "    )\n",
    "        return {\n",
    "            \"from\": eth_acc.address,\n",
    "            \"to\": to,\n",
    "            \"value\": amount,\n",
    "            \"gasPrice\": w3.eth.gasPrice,\n",
    "            \"gas\": gasEstimate,\n",
    "            \"nonce\": w3.eth.getTransactionCount(account.address),\n",
    "            \n",
    "    }\n",
    "    elif coin == BTCTEST:\n",
    "        return PrivateKeyTestnet.prepare_transaction(account.address, [(to, amount, BTC)])"
   ]
  },
  {
   "cell_type": "code",
   "execution_count": null,
   "metadata": {},
   "outputs": [],
   "source": [
    "create_tx('ETH',eth_acc,'0x8B2071CFC67f596BA4C280356bFeED43C030A5c6',1250000000000000000000)"
   ]
  },
  {
   "cell_type": "code",
   "execution_count": null,
   "metadata": {},
   "outputs": [],
   "source": [
    "#Sending currency (note amount is in WEI)\n",
    "def send_tx(coin,account, recipient, amount):\n",
    "    tx = create_tx(coin,account,recipient,amount)\n",
    "    \n",
    "    if coin == ETH:\n",
    "        signed_tx = eth_account.sign_transaction(tx)\n",
    "        result = w3.eth.sendRawTransaction(signed_tx.rawTransaction)\n",
    "        return result.hex()\n",
    "    elif coin == BTCTEST:\n",
    "        signed_tx = btc_account.sign_transaction(tx)\n",
    "        return NetworkAPI.broadcast_tx_testnet(signed_tx)"
   ]
  },
  {
   "cell_type": "code",
   "execution_count": null,
   "metadata": {},
   "outputs": [],
   "source": [
    "send_tx(ETH,eth_acc,'0x8B2071CFC67f596BA4C280356bFeED43C030A5c6',1250000000000000000000)"
   ]
  },
  {
   "cell_type": "code",
   "execution_count": null,
   "metadata": {},
   "outputs": [],
   "source": [
    "#Creating easier access to addresses from the index\n",
    "def transaction(coin, sender, to, amount):\n",
    "    send_key = derive_wallets(mnemonic, coin, 5)[sender]['privkey']\n",
    "    send_hash = priv_key_to_account(coin, send_key)\n",
    "    to_address = derive_wallets(mnemonic, coin, 5)[to]['address']\n",
    "    return send_tx(coin, send_hash, to_address, amount)"
   ]
  },
  {
   "cell_type": "code",
   "execution_count": null,
   "metadata": {},
   "outputs": [],
   "source": [
    "#Sending a transaciton\n",
    "transaction(ETH,0,1,1250000000000000000000)"
   ]
  }
 ],
 "metadata": {
  "kernelspec": {
   "display_name": "Python 3",
   "language": "python",
   "name": "python3"
  },
  "language_info": {
   "codemirror_mode": {
    "name": "ipython",
    "version": 3
   },
   "file_extension": ".py",
   "mimetype": "text/x-python",
   "name": "python",
   "nbconvert_exporter": "python",
   "pygments_lexer": "ipython3",
   "version": "3.7.7"
  }
 },
 "nbformat": 4,
 "nbformat_minor": 4
}
